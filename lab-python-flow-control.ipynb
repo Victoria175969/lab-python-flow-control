{
 "cells": [
  {
   "cell_type": "markdown",
   "id": "d3bfc191-8885-42ee-b0a0-bbab867c6f9f",
   "metadata": {
    "tags": []
   },
   "source": [
    "# Lab | Flow Control"
   ]
  },
  {
   "cell_type": "markdown",
   "id": "3851fcd1-cf98-4653-9c89-e003b7ec9400",
   "metadata": {},
   "source": [
    "## Exercise: Managing Customer Orders Optimized\n",
    "\n",
    "In the last lab, you were starting an online store that sells various products. To ensure smooth operations, you developed a program that manages customer orders and inventory.\n",
    "\n",
    "You did so without using flow control. Let's go a step further and improve this code.\n",
    "\n",
    "Follow the steps below to complete the exercise:\n",
    "\n",
    "1. Look at your code from the lab data structures, and improve repeated code with loops.\n",
    "\n",
    "2. Instead of asking the user to input the name of three products that a customer wants to order, do the following:\n",
    "    \n",
    "    a. Prompt the user to enter the name of a product that a customer wants to order.\n",
    "    \n",
    "    b. Add the product name to the \"customer_orders\" set.\n",
    "    \n",
    "    c. Ask the user if they want to add another product (yes/no).\n",
    "    \n",
    "    d. Continue the loop until the user does not want to add another product.\n",
    "\n",
    "3. Instead of updating the inventory by subtracting 1 from the quantity of each product, only do it for  the products that were ordered (those in \"customer_orders\")."
   ]
  },
  {
   "cell_type": "code",
   "execution_count": 30,
   "id": "ac9bccd3-774a-4b94-a252-93216711d6ff",
   "metadata": {
    "scrolled": true
   },
   "outputs": [
    {
     "name": "stdin",
     "output_type": "stream",
     "text": [
      "Please input the quantity of t-shirts:  10\n",
      "Please input the quantity of mugs:  10\n",
      "Please input the quantity of hats:  10\n",
      "Please input the quantity of books:  10\n",
      "Please input the quantity of keychains:  10\n"
     ]
    },
    {
     "name": "stdout",
     "output_type": "stream",
     "text": [
      "{'t-shirt': 10, 'mug': 10, 'hat': 10, 'book': 10, 'keychain': 10, 't_shirt': 10}\n"
     ]
    },
    {
     "name": "stdin",
     "output_type": "stream",
     "text": [
      "Please enter the name of the product you would like to purchase:  mug\n",
      "Do you want to add another product?: yes\n",
      "Please enter the name of the product you would like to purchase:  mug\n",
      "Do you want to add another product?:  yes\n",
      "Please enter the name of the product you would like to purchase:  mug\n",
      "Do you want to add another product?:  yes\n",
      "Please enter the name of the product you would like to purchase:  book\n",
      "Do you want to add another product?:  no\n"
     ]
    },
    {
     "name": "stdout",
     "output_type": "stream",
     "text": [
      "Thank you for your order!\n",
      "{'mug', 'book'}\n",
      "{'t-shirt': 10, 'mug': 9, 'hat': 10, 'book': 9, 'keychain': 10, 't_shirt': 10}\n"
     ]
    }
   ],
   "source": [
    "products = [\"t-shirt\", \"mug\", \"hat\", \"book\", \"keychain\"]\n",
    "inventory = {}\n",
    "\n",
    "for item in products:\n",
    "    quantity = int(input(f\"Please input the quantity of {item}s: \"))  \n",
    "    inventory[item] = quantity \n",
    "    \n",
    "inventory[\"t_shirt\"] = t_shirt\n",
    "inventory[\"mug\"] = mug\n",
    "inventory[\"hat\"] = hat\n",
    "inventory[\"book\"] = book\n",
    "inventory[\"keychain\"] = keychain\n",
    "print(inventory)\n",
    "\n",
    "customer_orders = set()\n",
    "\n",
    "item = input(\"Please enter the name of the product you would like to purchase: \")\n",
    "\n",
    "customer_orders.add(item)\n",
    "\n",
    "reply = input(\"Do you want to add another product?:\")\n",
    "\n",
    "while reply == \"yes\":\n",
    "    item = input(\"Please enter the name of the product you would like to purchase: \")\n",
    "    customer_orders.add(item)\n",
    "    reply = input(\"Do you want to add another product?: \")\n",
    "    \n",
    "    \n",
    "if reply == \"no\":\n",
    "    print(\"Thank you for your order!\")\n",
    "else:\n",
    "    print(\"Invalid input\")\n",
    "\n",
    "for item in customer_orders:\n",
    "   inventory[item] = inventory[item] - 1 \n",
    "\n",
    "print(customer_orders)\n",
    "print(inventory)\n"
   ]
  },
  {
   "cell_type": "code",
   "execution_count": null,
   "id": "ccb7f339-f748-4ee4-9f04-a52c50becc05",
   "metadata": {},
   "outputs": [],
   "source": []
  }
 ],
 "metadata": {
  "kernelspec": {
   "display_name": "Python 3 (ipykernel)",
   "language": "python",
   "name": "python3"
  },
  "language_info": {
   "codemirror_mode": {
    "name": "ipython",
    "version": 3
   },
   "file_extension": ".py",
   "mimetype": "text/x-python",
   "name": "python",
   "nbconvert_exporter": "python",
   "pygments_lexer": "ipython3",
   "version": "3.12.3"
  }
 },
 "nbformat": 4,
 "nbformat_minor": 5
}
